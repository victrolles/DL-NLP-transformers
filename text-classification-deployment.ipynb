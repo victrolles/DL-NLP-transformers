{
 "cells": [
  {
   "cell_type": "markdown",
   "metadata": {},
   "source": [
    "<a href=\"https://www.nvidia.com/dli\"> <img src=\"images/DLI_Header.png\" alt=\"Header\" style=\"width: 400px;\"/> </a>"
   ]
  },
  {
   "cell_type": "markdown",
   "metadata": {
    "tags": []
   },
   "source": [
    "# Deploying Text Classification Model in Riva\n",
    "\n",
    "[Train Adapt Optimize (TAO) Toolkit](https://developer.nvidia.com/tao-toolkit)  provides the capability to export your model in a format that can deployed using [NVIDIA Riva](https://developer.nvidia.com/riva), a highly performant application framework for multi-modal conversational AI services using GPUs. \n",
    "\n",
    "This tutorial explores taking a .riva model, the result of `tao text_classification export` command, and leveraging the Riva ServiceMaker framework to aggregate all the necessary artifacts for Riva deployment to a target environment. Once the model is deployed in Riva, you can issue inference requests to the server. We will demonstrate how quick and straightforward this whole process is. \n",
    "\n",
    "## Learning Objectives\n",
    "In this notebook, you will learn how to:  \n",
    "- Use Riva ServiceMaker to take a TAO exported .riva and convert it to .rmir\n",
    "- Deploy the model(s) locally  on the Riva Server\n",
    "- Send inference requests from a demo client using Riva API bindings..\n",
    "\n",
    "## Pre-requisites\n",
    "To follow along, please make sure:\n",
    "- You have access to NVIDIA NGC, and are able to download the Riva Quickstart [resources](https://ngc.nvidia.com/catalog/resources/nvidia:riva:riva_quickstart/)\n",
    "- Have a .riva model file that you wish to deploy. You can obtain this from `tao <task> export` (with `export_format=RIVA`). Please refer the tutorial on *Text Classification using Train Adapt Optimize (TAO) Toolkit* for more details on training and exporting a .riva model.\n",
    "\n",
    "## Riva ServiceMaker\n",
    "Servicemaker is the set of tools that aggregates all the necessary artifacts (models, files, configurations, and user settings) for Riva deployment to a target environment. It has two main components as shown below:\n",
    "\n",
    "### 1. Riva-build\n",
    "\n",
    "This step helps build a Riva-ready version of the model. It’s only output is an intermediate format (called a RMIR) of an end to end pipeline for the supported services within Riva. We are taking a ASR QuartzNet Model in consideration<br>\n",
    "\n",
    "`riva-build` is responsible for the combination of one or more exported models (.riva files) into a single file containing an intermediate format called Riva Model Intermediate Representation (.rmir). This file contains a deployment-agnostic specification of the whole end-to-end pipeline along with all the assets required for the final deployment and inference. Please checkout the [documentation](https://docs.nvidia.com/deeplearning/riva/user-guide/docs/service-nlp.html#pipeline-configuration) to find out more."
   ]
  },
  {
   "cell_type": "code",
   "execution_count": 1,
   "metadata": {},
   "outputs": [],
   "source": [
    "# Set some path and file names we need \n",
    "\n",
    "# ServiceMaker Docker\n",
    "RIVA_SM_CONTAINER = \"nvcr.io/nvidia/riva/riva-speech:1.7.0-beta-servicemaker\"\n",
    "\n",
    "# Directory where the .riva model is stored $MODEL_LOC/*.riva\n",
    "MODEL_LOC = \"/dli/task/domainclassification_english_bert_vdeployable_v1.0\"\n",
    "\n",
    "# Name of the .riva file\n",
    "MODEL_NAME = \"domain_classification_bert.riva\"\n",
    "\n",
    "# Key that model is encrypted with, while exporting with TAO\n",
    "KEY = 'tlt_encode'"
   ]
  },
  {
   "cell_type": "code",
   "execution_count": 2,
   "metadata": {
    "scrolled": true,
    "tags": []
   },
   "outputs": [
    {
     "name": "stdout",
     "output_type": "stream",
     "text": [
      "1.7.0-beta-servicemaker: Pulling from nvidia/riva/riva-speech\n",
      "\n",
      "\u001b[1B32c2132b: Pulling fs layer \n",
      "\u001b[1Bfc91ca4c: Pulling fs layer \n",
      "\u001b[1Bbfe29823: Pulling fs layer \n",
      "\u001b[1Bbb0f48c6: Pulling fs layer \n",
      "\u001b[1B937ae0b1: Pulling fs layer \n",
      "\u001b[1B47dbb869: Pulling fs layer \n",
      "\u001b[1B9a515d38: Pulling fs layer \n",
      "\u001b[1Bbefddb18: Pulling fs layer \n",
      "\u001b[1Ba5bdde0b: Pulling fs layer \n",
      "\u001b[1B32b6dcb0: Pulling fs layer \n",
      "\u001b[1Bb39618ed: Pulling fs layer \n",
      "\u001b[1B5b7dac39: Pulling fs layer \n",
      "\u001b[1B46f1ce67: Pulling fs layer \n",
      "\u001b[1B46b2b0ee: Pulling fs layer \n",
      "\u001b[1B0f57ab67: Pulling fs layer \n",
      "\u001b[1B010c3f61: Pulling fs layer \n",
      "\u001b[1B920eee68: Pulling fs layer \n",
      "\u001b[2B920eee68: Waiting fs layer \n",
      "\u001b[1Bec3721d9: Pulling fs layer \n",
      "\u001b[1Baf4d5a99: Pulling fs layer \n",
      "\u001b[1Baee79aa7: Pulling fs layer \n",
      "\u001b[3Baf4d5a99: Waiting fs layer \n",
      "\u001b[1B23103b6c: Pulling fs layer \n",
      "\u001b[1Bff55d023: Pulling fs layer \n",
      "\u001b[1Bedee2aea: Pulling fs layer \n",
      "\u001b[1B59107317: Pulling fs layer \n",
      "\u001b[3Bedee2aea: Waiting fs layer \n",
      "\u001b[1Bb3fc277b: Pulling fs layer \n",
      "\u001b[1B9b3d3e1b: Pulling fs layer \n",
      "\u001b[1B82e73914: Pulling fs layer \n",
      "\u001b[1Be2192d85: Pulling fs layer \n",
      "\u001b[1Badce9a47: Pulling fs layer \n",
      "\u001b[7Bbe386e50: Waiting fs layer \n",
      "\u001b[1B77788c67: Pulling fs layer \n",
      "\u001b[1B60bd6ccd: Pulling fs layer \n",
      "\u001b[1B0531d2b7: Pulling fs layer \n",
      "\u001b[1Bd682c501: Pulling fs layer \n",
      "\u001b[1B8c0faf73: Pulling fs layer \n",
      "\u001b[10B2e73914: Waiting fs layer \n",
      "\u001b[1B1a413c6d: Pulling fs layer \n",
      "\u001b[1Bf8ad0fed: Pulling fs layer \n",
      "\u001b[1B5634de97: Pulling fs layer \n",
      "\u001b[13B2192d85: Waiting fs layer \n",
      "\u001b[1B973c1a31: Pulling fs layer \n",
      "\u001b[14Bdce9a47: Waiting fs layer \n",
      "\u001b[1B22de31ce: Pulling fs layer \n",
      "\u001b[1B2cd47e40: Pulling fs layer \n",
      "\u001b[16B880a223: Waiting fs layer \n",
      "\u001b[1Bcf9b41c8: Pulling fs layer \n",
      "\u001b[1B78ef40ec: Pulling fs layer \n",
      "\u001b[1Bc18e802f: Pulling fs layer \n",
      "\u001b[14B5c0138f: Waiting fs layer \n",
      "\u001b[14Ba413c6d: Waiting fs layer \n",
      "\u001b[13B634de97: Waiting fs layer \n",
      "\u001b[15B8ad0fed: Waiting fs layer \n",
      "\u001b[14B3b98617: Waiting fs layer \n",
      "\u001b[1B18e8497d: Pulling fs layer \n",
      "\u001b[13B2de31ce: Waiting fs layer \n",
      "\u001b[1B20072703: Pulling fs layer \n",
      "\u001b[1B73a465dd: Pulling fs layer \n",
      "\u001b[1B3dc55625: Pulling fs layer \n",
      "\u001b[1Bd2d813b3: Pulling fs layer \n",
      "\u001b[1B519998e6: Pulling fs layer \n",
      "\u001b[17B6362a82: Waiting fs layer \n",
      "\u001b[1B3914ec00: Pulling fs layer \n",
      "\u001b[1Bac855e7c: Pulling fs layer \n",
      "\u001b[1B38823e44: Pulling fs layer \n",
      "\u001b[20Bf9b41c8: Waiting fs layer \n",
      "\u001b[1Bbf7b5f64: Pulling fs layer \n",
      "\u001b[1Bdd942051: Pulling fs layer \n",
      "\u001b[1B5726bc0f: Pulling fs layer \n",
      "\u001b[16B8e8497d: Waiting fs layer \n",
      "\u001b[1Bfa6c3e97: Pulling fs layer \n",
      "\u001b[16B0072703: Waiting fs layer \n",
      "\u001b[16B3a465dd: Waiting fs layer \n",
      "\u001b[1B50960cdb: Pulling fs layer \n",
      "\u001b[1B53d0c210: Pulling fs layer \n",
      "\u001b[18Bdc55625: Waiting fs layer \n",
      "\u001b[18B2d813b3: Waiting fs layer \n",
      "\u001b[1B8ada3dbc: Pulling fs layer \n",
      "\u001b[1B4a6ee8c5: Pulling fs layer \n",
      "\u001b[1BDigest: sha256:d04af8ac70ab146084b2cecdd94fc00e2da4b2a44cbdc8309ddc2e660ea2c45f\u001b[2K\u001b[82A\u001b[2K\u001b[81A\u001b[2K\u001b[81A\u001b[2K\u001b[78A\u001b[2K\u001b[82A\u001b[2K\u001b[82A\u001b[2K\u001b[76A\u001b[2K\u001b[75A\u001b[2K\u001b[82A\u001b[2K\u001b[74A\u001b[2K\u001b[73A\u001b[2K\u001b[82A\u001b[2K\u001b[82A\u001b[2K\u001b[82A\u001b[2K\u001b[81A\u001b[2K\u001b[81A\u001b[2K\u001b[68A\u001b[2K\u001b[81A\u001b[2K\u001b[71A\u001b[2K\u001b[66A\u001b[2K\u001b[81A\u001b[2K\u001b[65A\u001b[2K\u001b[71A\u001b[2K\u001b[66A\u001b[2K\u001b[71A\u001b[2K\u001b[66A\u001b[2K\u001b[66A\u001b[2K\u001b[71A\u001b[2K\u001b[66A\u001b[2K\u001b[71A\u001b[2K\u001b[81A\u001b[2K\u001b[71A\u001b[2K\u001b[65A\u001b[2K\u001b[64A\u001b[2K\u001b[65A\u001b[2K\u001b[71A\u001b[2K\u001b[71A\u001b[2K\u001b[81A\u001b[2K\u001b[62A\u001b[2K\u001b[63A\u001b[2K\u001b[81A\u001b[2K\u001b[63A\u001b[2K\u001b[62A\u001b[2K\u001b[71A\u001b[2K\u001b[62A\u001b[2K\u001b[81A\u001b[2K\u001b[81A\u001b[2K\u001b[71A\u001b[2K\u001b[61A\u001b[2K\u001b[81A\u001b[2K\u001b[61A\u001b[2K\u001b[61A\u001b[2K\u001b[63A\u001b[2K\u001b[61A\u001b[2K\u001b[61A\u001b[2K\u001b[61A\u001b[2K\u001b[81A\u001b[2K\u001b[71A\u001b[2K\u001b[81A\u001b[2K\u001b[71A\u001b[2K\u001b[71A\u001b[2K\u001b[81A\u001b[2K\u001b[63A\u001b[2K\u001b[81A\u001b[2K\u001b[71A\u001b[2K\u001b[81A\u001b[2K\u001b[71A\u001b[2K\u001b[71A\u001b[2K\u001b[71A\u001b[2K\u001b[81A\u001b[2K\u001b[71A\u001b[2K\u001b[63A\u001b[2K\u001b[60A\u001b[2K\u001b[81A\u001b[2K\u001b[60A\u001b[2K\u001b[81A\u001b[2K\u001b[71A\u001b[2K\u001b[60A\u001b[2K\u001b[60A\u001b[2K\u001b[60A\u001b[2K\u001b[63A\u001b[2K\u001b[60A\u001b[2K\u001b[81A\u001b[2K\u001b[71A\u001b[2K\u001b[81A\u001b[2K\u001b[60A\u001b[2K\u001b[59A\u001b[2K\u001b[71A\u001b[2K\u001b[81A\u001b[2K\u001b[71A\u001b[2K\u001b[71A\u001b[2K\u001b[81A\u001b[2K\u001b[71A\u001b[2K\u001b[57A\u001b[2K\u001b[60A\u001b[2K\u001b[57A\u001b[2K\u001b[60A\u001b[2K\u001b[60A\u001b[2K\u001b[81A\u001b[2K\u001b[57A\u001b[2K\u001b[71A\u001b[2K\u001b[57A\u001b[2K\u001b[80A\u001b[2K\u001b[80A\u001b[2K\u001b[80A\u001b[2K\u001b[80A\u001b[2K\u001b[80A\u001b[2K\u001b[80A\u001b[2K\u001b[71A\u001b[2K\u001b[80A\u001b[2K\u001b[71A\u001b[2K\u001b[57A\u001b[2K\u001b[80A\u001b[2K\u001b[57A\u001b[2K\u001b[80A\u001b[2K\u001b[57A\u001b[2K\u001b[80A\u001b[2K\u001b[57A\u001b[2K\u001b[60A\u001b[2K\u001b[57A\u001b[2K\u001b[60A\u001b[2K\u001b[57A\u001b[2K\u001b[60A\u001b[2K\u001b[57A\u001b[2K\u001b[71A\u001b[2K\u001b[57A\u001b[2K\u001b[71A\u001b[2K\u001b[60A\u001b[2K\u001b[71A\u001b[2K\u001b[60A\u001b[2K\u001b[71A\u001b[2K\u001b[56A\u001b[2K\u001b[71A\u001b[2K\u001b[80A\u001b[2K\u001b[60A\u001b[2K\u001b[56A\u001b[2K\u001b[60A\u001b[2K\u001b[80A\u001b[2K\u001b[60A\u001b[2K\u001b[55A\u001b[2K\u001b[71A\u001b[2K\u001b[55A\u001b[2K\u001b[55A\u001b[2K\u001b[80A\u001b[2K\u001b[71A\u001b[2K\u001b[80A\u001b[2K\u001b[71A\u001b[2K\u001b[54A\u001b[2K\u001b[71A\u001b[2K\u001b[80A\u001b[2K\u001b[71A\u001b[2K\u001b[54A\u001b[2K\u001b[80A\u001b[2K\u001b[54A\u001b[2K\u001b[60A\u001b[2K\u001b[54A\u001b[2K\u001b[60A\u001b[2K\u001b[80A\u001b[2K\u001b[71A\u001b[2K\u001b[54A\u001b[2K\u001b[60A\u001b[2K\u001b[80A\u001b[2K\u001b[71A\u001b[2K\u001b[54A\u001b[2K\u001b[60A\u001b[2K\u001b[54A\u001b[2K\u001b[80A\u001b[2K\u001b[80A\u001b[2K\u001b[80A\u001b[2K\u001b[53A\u001b[2K\u001b[80A\u001b[2K\u001b[53A\u001b[2K\u001b[80A\u001b[2K\u001b[80A\u001b[2K\u001b[51A\u001b[2K\u001b[80A\u001b[2K\u001b[51A\u001b[2K\u001b[51A\u001b[2K\u001b[80A\u001b[2K\u001b[49A\u001b[2K\u001b[51A\u001b[2K\u001b[49A\u001b[2K\u001b[51A\u001b[2K\u001b[49A\u001b[2K\u001b[71A\u001b[2K\u001b[49A\u001b[2K\u001b[51A\u001b[2K\u001b[49A\u001b[2K\u001b[51A\u001b[2K\u001b[49A\u001b[2K\u001b[49A\u001b[2K\u001b[78A\u001b[2K\u001b[49A\u001b[2K\u001b[49A\u001b[2K\u001b[49A\u001b[2K\u001b[49A\u001b[2K\u001b[48A\u001b[2K\u001b[49A\u001b[2K\u001b[76A\u001b[2K\u001b[49A\u001b[2K\u001b[49A\u001b[2K\u001b[71A\u001b[2K\u001b[47A\u001b[2K\u001b[71A\u001b[2K\u001b[75A\u001b[2K\u001b[71A\u001b[2K\u001b[46A\u001b[2K\u001b[71A\u001b[2K\u001b[75A\u001b[2K\u001b[74A\u001b[2K\u001b[71A\u001b[2K\u001b[46A\u001b[2K\u001b[45A\u001b[2K\u001b[46A\u001b[2K\u001b[74A\u001b[2K\u001b[46A\u001b[2K\u001b[73A\u001b[2K\u001b[73A\u001b[2K\u001b[46A\u001b[2K\u001b[71A\u001b[2K\u001b[46A\u001b[2K\u001b[71A\u001b[2K\u001b[46A\u001b[2K\u001b[71A\u001b[2K\u001b[46A\u001b[2K\u001b[71A\u001b[2K\u001b[46A\u001b[2K\u001b[71A\u001b[2K\u001b[46A\u001b[2K\u001b[71A\u001b[2K\u001b[46A\u001b[2K\u001b[71A\u001b[2K\u001b[46A\u001b[2K\u001b[71A\u001b[2K\u001b[46A\u001b[2K\u001b[71A\u001b[2K\u001b[46A\u001b[2K\u001b[71A\u001b[2K\u001b[46A\u001b[2K\u001b[71A\u001b[2K\u001b[46A\u001b[2K\u001b[45A\u001b[2K\u001b[46A\u001b[2K\u001b[71A\u001b[2K\u001b[46A\u001b[2K\u001b[71A\u001b[2K\u001b[46A\u001b[2K\u001b[71A\u001b[2K\u001b[71A\u001b[2K\u001b[71A\u001b[2K\u001b[71A\u001b[2K\u001b[71A\u001b[2K\u001b[71A\u001b[2K\u001b[46A\u001b[2K\u001b[71A\u001b[2K\u001b[46A\u001b[2K\u001b[71A\u001b[2K\u001b[46A\u001b[2K\u001b[71A\u001b[2K\u001b[46A\u001b[2K\u001b[71A\u001b[2K\u001b[46A\u001b[2K\u001b[71A\u001b[2K\u001b[46A\u001b[2K\u001b[71A\u001b[2K\u001b[46A\u001b[2K\u001b[71A\u001b[2K\u001b[71A\u001b[2K\u001b[71A\u001b[2K\u001b[71A\u001b[2K\u001b[71A\u001b[2K\u001b[71A\u001b[2K\u001b[71A\u001b[2K\u001b[45A\u001b[2K\u001b[45A\u001b[2K\u001b[71A\u001b[2K\u001b[45A\u001b[2K\u001b[71A\u001b[2K\u001b[45A\u001b[2K\u001b[45A\u001b[2K\u001b[45A\u001b[2K\u001b[45A\u001b[2K\u001b[45A\u001b[2K\u001b[45A\u001b[2K\u001b[45A\u001b[2K\u001b[45A\u001b[2K\u001b[45A\u001b[2K\u001b[45A\u001b[2K\u001b[45A\u001b[2K\u001b[45A\u001b[2K\u001b[45A\u001b[2K\u001b[71A\u001b[2K\u001b[45A\u001b[2K\u001b[71A\u001b[2K\u001b[45A\u001b[2K\u001b[71A\u001b[2K\u001b[45A\u001b[2K\u001b[71A\u001b[2K\u001b[45A\u001b[2K\u001b[71A\u001b[2K\u001b[45A\u001b[2K\u001b[71A\u001b[2K\u001b[45A\u001b[2K\u001b[71A\u001b[2K\u001b[46A\u001b[2K\u001b[45A\u001b[2K\u001b[46A\u001b[2K\u001b[45A\u001b[2K\u001b[46A\u001b[2K\u001b[45A\u001b[2K\u001b[46A\u001b[2K\u001b[45A\u001b[2K\u001b[46A\u001b[2K\u001b[45A\u001b[2K\u001b[46A\u001b[2K\u001b[45A\u001b[2K\u001b[46A\u001b[2K\u001b[45A\u001b[2K\u001b[46A\u001b[2K\u001b[45A\u001b[2K\u001b[46A\u001b[2K\u001b[45A\u001b[2K\u001b[45A\u001b[2K\u001b[71A\u001b[2K\u001b[46A\u001b[2K\u001b[71A\u001b[2K\u001b[46A\u001b[2K\u001b[71A\u001b[2K\u001b[46A\u001b[2K\u001b[71A\u001b[2K\u001b[46A\u001b[2K\u001b[71A\u001b[2K\u001b[46A\u001b[2K\u001b[43A\u001b[2K\u001b[71A\u001b[2K\u001b[42A\u001b[2K\u001b[71A\u001b[2K\u001b[71A\u001b[2K\u001b[40A\u001b[2K\u001b[71A\u001b[2K\u001b[71A\u001b[2K\u001b[39A\u001b[2K\u001b[71A\u001b[2K\u001b[71A\u001b[2K\u001b[38A\u001b[2K\u001b[41A\u001b[2K\u001b[41A\u001b[2K\u001b[41A\u001b[2K\u001b[71A\u001b[2K\u001b[37A\u001b[2K\u001b[71A\u001b[2K\u001b[36A\u001b[2K\u001b[71A\u001b[2K\u001b[36A\u001b[2K\u001b[71A\u001b[2K\u001b[36A\u001b[2K\u001b[71A\u001b[2K\u001b[35A\u001b[2K\u001b[71A\u001b[2K\u001b[35A\u001b[2K\u001b[71A\u001b[2K\u001b[71A\u001b[2K\u001b[71A\u001b[2K\u001b[32A\u001b[2K\u001b[71A\u001b[2K\u001b[71A\u001b[2K\u001b[31A\u001b[2K\u001b[31A\u001b[2K\u001b[30A\u001b[2K\u001b[71A\u001b[2K\u001b[71A\u001b[2K\u001b[29A\u001b[2K\u001b[71A\u001b[2K\u001b[29A\u001b[2K\u001b[29A\u001b[2K\u001b[71A\u001b[2K\u001b[28A\u001b[2K\u001b[27A\u001b[2K\u001b[71A\u001b[2K\u001b[27A\u001b[2K\u001b[71A\u001b[2K\u001b[27A\u001b[2K\u001b[71A\u001b[2K\u001b[27A\u001b[2K\u001b[71A\u001b[2K\u001b[26A\u001b[2K\u001b[71A\u001b[2K\u001b[26A\u001b[2K\u001b[71A\u001b[2K\u001b[71A\u001b[2K\u001b[24A\u001b[2K\u001b[71A\u001b[2K\u001b[71A\u001b[2KDownloading  2.153GB/2.356GB\u001b[71A\u001b[2K\u001b[23A\u001b[2K\u001b[22A\u001b[2K\u001b[23A\u001b[2K\u001b[71A\u001b[2K\u001b[71A\u001b[2K\u001b[21A\u001b[2K\u001b[21A\u001b[2K\u001b[21A\u001b[2K\u001b[21A\u001b[2K\u001b[21A\u001b[2K\u001b[21A\u001b[2K\u001b[20A\u001b[2K\u001b[21A\u001b[2K\u001b[20A\u001b[2K\u001b[21A\u001b[2K\u001b[21A\u001b[2K\u001b[21A\u001b[2K\u001b[21A\u001b[2K\u001b[71A\u001b[2K\u001b[21A\u001b[2K\u001b[20A\u001b[2K\u001b[21A\u001b[2K\u001b[19A\u001b[2K\u001b[71A\u001b[2K\u001b[19A\u001b[2K\u001b[19A\u001b[2K\u001b[20A\u001b[2K\u001b[18A\u001b[2K\u001b[71A\u001b[2K\u001b[20A\u001b[2K\u001b[20A\u001b[2K\u001b[20A\u001b[2K\u001b[15A\u001b[2K\u001b[20A\u001b[2K\u001b[15A\u001b[2K\u001b[20A\u001b[2K\u001b[20A\u001b[2K\u001b[20A\u001b[2K\u001b[12A\u001b[2K\u001b[20A\u001b[2K\u001b[12A\u001b[2K\u001b[20A\u001b[2K\u001b[11A\u001b[2K\u001b[20A\u001b[2K\u001b[71A\u001b[2K\u001b[10A\u001b[2K\u001b[71A\u001b[2K\u001b[20A\u001b[2K\u001b[71A\u001b[2K\u001b[8A\u001b[2K\u001b[71A\u001b[2K\u001b[71A\u001b[2K\u001b[7A\u001b[2K\u001b[5A\u001b[2K\u001b[6A\u001b[2K\u001b[71A\u001b[2K\u001b[4A\u001b[2K\u001b[3A\u001b[2K\u001b[71A\u001b[2K\u001b[71A\u001b[2K\u001b[1A\u001b[2K\u001b[71A\u001b[2K\u001b[71A\u001b[2K\u001b[71A\u001b[2K\u001b[71A\u001b[2K\u001b[71A\u001b[2K\u001b[71A\u001b[2K\u001b[71A\u001b[2K\u001b[71A\u001b[2K\u001b[71A\u001b[2K\u001b[71A\u001b[2K\u001b[71A\u001b[2K\u001b[71A\u001b[2K\u001b[71A\u001b[2K\u001b[71A\u001b[2K\u001b[71A\u001b[2K\u001b[71A\u001b[2K\u001b[71A\u001b[2K\u001b[71A\u001b[2K\u001b[71A\u001b[2K\u001b[71A\u001b[2K\u001b[71A\u001b[2K\u001b[71A\u001b[2K\u001b[71A\u001b[2K\u001b[71A\u001b[2K\u001b[71A\u001b[2K\u001b[71A\u001b[2K\u001b[71A\u001b[2K\u001b[71A\u001b[2K\u001b[71A\u001b[2K\u001b[71A\u001b[2K\u001b[71A\u001b[2K\u001b[71A\u001b[2K\u001b[71A\u001b[2K\u001b[71A\u001b[2K\u001b[71A\u001b[2K\u001b[71A\u001b[2K\u001b[71A\u001b[2K\u001b[71A\u001b[2K\u001b[71A\u001b[2K\u001b[71A\u001b[2K\u001b[71A\u001b[2K\u001b[71A\u001b[2K\u001b[71A\u001b[2K\u001b[71A\u001b[2K\u001b[71A\u001b[2K\u001b[71A\u001b[2K\u001b[71A\u001b[2K\u001b[71A\u001b[2K\u001b[71A\u001b[2K\u001b[71A\u001b[2K\u001b[71A\u001b[2K\u001b[71A\u001b[2K\u001b[71A\u001b[2K\u001b[71A\u001b[2K\u001b[71A\u001b[2K\u001b[71A\u001b[2K\u001b[71A\u001b[2K\u001b[71A\u001b[2K\u001b[71A\u001b[2K\u001b[71A\u001b[2K\u001b[71A\u001b[2K\u001b[71A\u001b[2K\u001b[71A\u001b[2K\u001b[71A\u001b[2K\u001b[71A\u001b[2K\u001b[71A\u001b[2K\u001b[71A\u001b[2K\u001b[71A\u001b[2K\u001b[71A\u001b[2K\u001b[71A\u001b[2K\u001b[71A\u001b[2K\u001b[71A\u001b[2K\u001b[71A\u001b[2K\u001b[71A\u001b[2K\u001b[71A\u001b[2KExtracting  688.5MB/2.356GB\u001b[71A\u001b[2K\u001b[71A\u001b[2K\u001b[71A\u001b[2K\u001b[71A\u001b[2K\u001b[71A\u001b[2K\u001b[71A\u001b[2K\u001b[71A\u001b[2K\u001b[71A\u001b[2K\u001b[71A\u001b[2K\u001b[71A\u001b[2K\u001b[71A\u001b[2K\u001b[71A\u001b[2K\u001b[71A\u001b[2K\u001b[71A\u001b[2K\u001b[71A\u001b[2K\u001b[71A\u001b[2K\u001b[71A\u001b[2K\u001b[71A\u001b[2K\u001b[71A\u001b[2K\u001b[71A\u001b[2K\u001b[71A\u001b[2K\u001b[71A\u001b[2K\u001b[71A\u001b[2K\u001b[71A\u001b[2K\u001b[71A\u001b[2K\u001b[71A\u001b[2K\u001b[71A\u001b[2K\u001b[71A\u001b[2K\u001b[71A\u001b[2K\u001b[71A\u001b[2K\u001b[71A\u001b[2K\u001b[71A\u001b[2K\u001b[71A\u001b[2K\u001b[71A\u001b[2K\u001b[71A\u001b[2K\u001b[71A\u001b[2K\u001b[71A\u001b[2K\u001b[71A\u001b[2K\u001b[71A\u001b[2K\u001b[71A\u001b[2K\u001b[71A\u001b[2K\u001b[71A\u001b[2K\u001b[71A\u001b[2K\u001b[71A\u001b[2K\u001b[71A\u001b[2K\u001b[71A\u001b[2K\u001b[71A\u001b[2K\u001b[71A\u001b[2K\u001b[71A\u001b[2K\u001b[71A\u001b[2K\u001b[71A\u001b[2K\u001b[71A\u001b[2K\u001b[71A\u001b[2K\u001b[71A\u001b[2K\u001b[71A\u001b[2K\u001b[71A\u001b[2K\u001b[71A\u001b[2K\u001b[71A\u001b[2K\u001b[71A\u001b[2K\u001b[71A\u001b[2K\u001b[71A\u001b[2K\u001b[71A\u001b[2K\u001b[71A\u001b[2K\u001b[71A\u001b[2K\u001b[71A\u001b[2K\u001b[71A\u001b[2K\u001b[71A\u001b[2K\u001b[71A\u001b[2K\u001b[71A\u001b[2K\u001b[71A\u001b[2K\u001b[71A\u001b[2K\u001b[71A\u001b[2K\u001b[71A\u001b[2K\u001b[71A\u001b[2K\u001b[71A\u001b[2K\u001b[71A\u001b[2K\u001b[71A\u001b[2K\u001b[71A\u001b[2K\u001b[71A\u001b[2K\u001b[71A\u001b[2K\u001b[71A\u001b[2K\u001b[71A\u001b[2K\u001b[71A\u001b[2K\u001b[71A\u001b[2K\u001b[71A\u001b[2K\u001b[71A\u001b[2K\u001b[71A\u001b[2K\u001b[71A\u001b[2K\u001b[71A\u001b[2K\u001b[71A\u001b[2K\u001b[71A\u001b[2K\u001b[71A\u001b[2K\u001b[71A\u001b[2K\u001b[71A\u001b[2K\u001b[71A\u001b[2K\u001b[71A\u001b[2K\u001b[71A\u001b[2K\u001b[71A\u001b[2K\u001b[71A\u001b[2K\u001b[71A\u001b[2K\u001b[71A\u001b[2K\u001b[71A\u001b[2K\u001b[71A\u001b[2K\u001b[71A\u001b[2K\u001b[71A\u001b[2K\u001b[71A\u001b[2K\u001b[71A\u001b[2K\u001b[71A\u001b[2K\u001b[71A\u001b[2K\u001b[71A\u001b[2K\u001b[71A\u001b[2K\u001b[71A\u001b[2K\u001b[71A\u001b[2K\u001b[71A\u001b[2K\u001b[71A\u001b[2K\u001b[71A\u001b[2K\u001b[71A\u001b[2K\u001b[71A\u001b[2K\u001b[71A\u001b[2K\u001b[71A\u001b[2K\u001b[71A\u001b[2K\u001b[71A\u001b[2K\u001b[71A\u001b[2K\u001b[71A\u001b[2K\u001b[71A\u001b[2K\u001b[71A\u001b[2K\u001b[71A\u001b[2K\u001b[71A\u001b[2K\u001b[71A\u001b[2K\u001b[71A\u001b[2K\u001b[71A\u001b[2K\u001b[71A\u001b[2K\u001b[71A\u001b[2K\u001b[71A\u001b[2K\u001b[71A\u001b[2K\u001b[71A\u001b[2K\u001b[71A\u001b[2K\u001b[71A\u001b[2K\u001b[71A\u001b[2K\u001b[71A\u001b[2K\u001b[71A\u001b[2K\u001b[71A\u001b[2K\u001b[71A\u001b[2K\u001b[71A\u001b[2K\u001b[71A\u001b[2K\u001b[71A\u001b[2K\u001b[71A\u001b[2K\u001b[71A\u001b[2K\u001b[71A\u001b[2K\u001b[71A\u001b[2K\u001b[71A\u001b[2K\u001b[71A\u001b[2K\u001b[71A\u001b[2K\u001b[71A\u001b[2K\u001b[71A\u001b[2K\u001b[71A\u001b[2K\u001b[71A\u001b[2K\u001b[71A\u001b[2K\u001b[71A\u001b[2K\u001b[71A\u001b[2K\u001b[71A\u001b[2K\u001b[71A\u001b[2K\u001b[71A\u001b[2K\u001b[71A\u001b[2K\u001b[71A\u001b[2K\u001b[71A\u001b[2K\u001b[71A\u001b[2K\u001b[71A\u001b[2K\u001b[71A\u001b[2K\u001b[71A\u001b[2K\u001b[71A\u001b[2K\u001b[71A\u001b[2K\u001b[71A\u001b[2K\u001b[71A\u001b[2K\u001b[71A\u001b[2K\u001b[71A\u001b[2K\u001b[71A\u001b[2K\u001b[71A\u001b[2K\u001b[71A\u001b[2K\u001b[71A\u001b[2K\u001b[71A\u001b[2K\u001b[71A\u001b[2K\u001b[71A\u001b[2K\u001b[71A\u001b[2K\u001b[71A\u001b[2K\u001b[71A\u001b[2K\u001b[71A\u001b[2K\u001b[71A\u001b[2K\u001b[71A\u001b[2K\u001b[71A\u001b[2K\u001b[71A\u001b[2K\u001b[71A\u001b[2K\u001b[71A\u001b[2K\u001b[71A\u001b[2K\u001b[71A\u001b[2K\u001b[70A\u001b[2K\u001b[69A\u001b[2K\u001b[68A\u001b[2K\u001b[67A\u001b[2K\u001b[66A\u001b[2K\u001b[66A\u001b[2K\u001b[66A\u001b[2K\u001b[66A\u001b[2K\u001b[66A\u001b[2K\u001b[66A\u001b[2K\u001b[66A\u001b[2K\u001b[66A\u001b[2K\u001b[66A\u001b[2K\u001b[66A\u001b[2K\u001b[66A\u001b[2K\u001b[66A\u001b[2K\u001b[66A\u001b[2K\u001b[65A\u001b[2K\u001b[65A\u001b[2K\u001b[65A\u001b[2K\u001b[65A\u001b[2K\u001b[65A\u001b[2K\u001b[65A\u001b[2K\u001b[65A\u001b[2K\u001b[65A\u001b[2K\u001b[65A\u001b[2K\u001b[65A\u001b[2K\u001b[65A\u001b[2K\u001b[65A\u001b[2K\u001b[65A\u001b[2K\u001b[65A\u001b[2K\u001b[65A\u001b[2K\u001b[65A\u001b[2K\u001b[64A\u001b[2K\u001b[63A\u001b[2K\u001b[63A\u001b[2K\u001b[63A\u001b[2K\u001b[63A\u001b[2K\u001b[63A\u001b[2K\u001b[63A\u001b[2K\u001b[63A\u001b[2K\u001b[63A\u001b[2K\u001b[63A\u001b[2K\u001b[63A\u001b[2K\u001b[63A\u001b[2K\u001b[63A\u001b[2K\u001b[63A\u001b[2K\u001b[63A\u001b[2K\u001b[63A\u001b[2K\u001b[63A\u001b[2K\u001b[63A\u001b[2K\u001b[63A\u001b[2K\u001b[63A\u001b[2K\u001b[63A\u001b[2K\u001b[63A\u001b[2K\u001b[63A\u001b[2K\u001b[63A\u001b[2K\u001b[63A\u001b[2K\u001b[63A\u001b[2K\u001b[63A\u001b[2K\u001b[63A\u001b[2K\u001b[63A\u001b[2K\u001b[63A\u001b[2K\u001b[63A\u001b[2K\u001b[63A\u001b[2K\u001b[63A\u001b[2K\u001b[63A\u001b[2K\u001b[63A\u001b[2K\u001b[63A\u001b[2K\u001b[63A\u001b[2K\u001b[63A\u001b[2K\u001b[63A\u001b[2K\u001b[63A\u001b[2K\u001b[62A\u001b[2K\u001b[62A\u001b[2K\u001b[62A\u001b[2K\u001b[62A\u001b[2K\u001b[62A\u001b[2K\u001b[62A\u001b[2K\u001b[62A\u001b[2K\u001b[62A\u001b[2K\u001b[62A\u001b[2K\u001b[62A\u001b[2K\u001b[62A\u001b[2K\u001b[62A\u001b[2K\u001b[62A\u001b[2K\u001b[62A\u001b[2K\u001b[62A\u001b[2K\u001b[62A\u001b[2K\u001b[62A\u001b[2K\u001b[62A\u001b[2K\u001b[62A\u001b[2K\u001b[62A\u001b[2K\u001b[62A\u001b[2K\u001b[62A\u001b[2K\u001b[62A\u001b[2K\u001b[62A\u001b[2K\u001b[62A\u001b[2K\u001b[61A\u001b[2K\u001b[61A\u001b[2K\u001b[61A\u001b[2K\u001b[61A\u001b[2K\u001b[61A\u001b[2K\u001b[61A\u001b[2K\u001b[61A\u001b[2K\u001b[61A\u001b[2K\u001b[61A\u001b[2K\u001b[61A\u001b[2K\u001b[61A\u001b[2K\u001b[61A\u001b[2K\u001b[61A\u001b[2K\u001b[60A\u001b[2K\u001b[60A\u001b[2K\u001b[60A\u001b[2K\u001b[60A\u001b[2K\u001b[60A\u001b[2K\u001b[60A\u001b[2K\u001b[60A\u001b[2K\u001b[60A\u001b[2K\u001b[60A\u001b[2K\u001b[60A\u001b[2K\u001b[60A\u001b[2K\u001b[60A\u001b[2K\u001b[60A\u001b[2K\u001b[60A\u001b[2K\u001b[60A\u001b[2K\u001b[60A\u001b[2K\u001b[60A\u001b[2K\u001b[60A\u001b[2K\u001b[60A\u001b[2K\u001b[60A\u001b[2K\u001b[60A\u001b[2K\u001b[60A\u001b[2K\u001b[60A\u001b[2K\u001b[60A\u001b[2K\u001b[60A\u001b[2K\u001b[60A\u001b[2K\u001b[60A\u001b[2K\u001b[60A\u001b[2K\u001b[60A\u001b[2K\u001b[60A\u001b[2K\u001b[60A\u001b[2K\u001b[60A\u001b[2K\u001b[60A\u001b[2K\u001b[60A\u001b[2K\u001b[60A\u001b[2K\u001b[60A\u001b[2K\u001b[60A\u001b[2K\u001b[60A\u001b[2K\u001b[60A\u001b[2K\u001b[60A\u001b[2K\u001b[60A\u001b[2K\u001b[60A\u001b[2K\u001b[60A\u001b[2K\u001b[60A\u001b[2K\u001b[60A\u001b[2K\u001b[60A\u001b[2K\u001b[60A\u001b[2K\u001b[60A\u001b[2K\u001b[60A\u001b[2K\u001b[60A\u001b[2K\u001b[60A\u001b[2K\u001b[60A\u001b[2K\u001b[60A\u001b[2K\u001b[60A\u001b[2K\u001b[60A\u001b[2K\u001b[60A\u001b[2K\u001b[60A\u001b[2K\u001b[60A\u001b[2K\u001b[60A\u001b[2K\u001b[60A\u001b[2K\u001b[60A\u001b[2K\u001b[60A\u001b[2K\u001b[60A\u001b[2K\u001b[60A\u001b[2K\u001b[60A\u001b[2K\u001b[60A\u001b[2K\u001b[60A\u001b[2K\u001b[60A\u001b[2K\u001b[60A\u001b[2K\u001b[60A\u001b[2K\u001b[60A\u001b[2K\u001b[60A\u001b[2K\u001b[60A\u001b[2K\u001b[60A\u001b[2K\u001b[60A\u001b[2K\u001b[60A\u001b[2K\u001b[60A\u001b[2K\u001b[60A\u001b[2K\u001b[60A\u001b[2K\u001b[60A\u001b[2K\u001b[60A\u001b[2K\u001b[60A\u001b[2K\u001b[60A\u001b[2K\u001b[60A\u001b[2K\u001b[60A\u001b[2K\u001b[60A\u001b[2K\u001b[60A\u001b[2K\u001b[60A\u001b[2K\u001b[60A\u001b[2K\u001b[60A\u001b[2K\u001b[60A\u001b[2K\u001b[60A\u001b[2K\u001b[60A\u001b[2K\u001b[60A\u001b[2K\u001b[60A\u001b[2K\u001b[60A\u001b[2K\u001b[60A\u001b[2K\u001b[60A\u001b[2K\u001b[60A\u001b[2K\u001b[60A\u001b[2K\u001b[60A\u001b[2K\u001b[60A\u001b[2K\u001b[60A\u001b[2K\u001b[60A\u001b[2K\u001b[60A\u001b[2K\u001b[60A\u001b[2K\u001b[60A\u001b[2K\u001b[60A\u001b[2K\u001b[60A\u001b[2K\u001b[60A\u001b[2K\u001b[60A\u001b[2K\u001b[60A\u001b[2K\u001b[60A\u001b[2K\u001b[60A\u001b[2K\u001b[60A\u001b[2K\u001b[60A\u001b[2K\u001b[60A\u001b[2K\u001b[60A\u001b[2K\u001b[60A\u001b[2K\u001b[60A\u001b[2K\u001b[60A\u001b[2K\u001b[60A\u001b[2K\u001b[60A\u001b[2K\u001b[60A\u001b[2K\u001b[60A\u001b[2K\u001b[60A\u001b[2K\u001b[60A\u001b[2K\u001b[60A\u001b[2K\u001b[60A\u001b[2K\u001b[60A\u001b[2K\u001b[60A\u001b[2K\u001b[60A\u001b[2K\u001b[60A\u001b[2K\u001b[60A\u001b[2K\u001b[60A\u001b[2K\u001b[60A\u001b[2K\u001b[60A\u001b[2K\u001b[59A\u001b[2K\u001b[58A\u001b[2K\u001b[58A\u001b[2K\u001b[57A\u001b[2K\u001b[57A\u001b[2K\u001b[57A\u001b[2K\u001b[57A\u001b[2K\u001b[57A\u001b[2K\u001b[57A\u001b[2K\u001b[57A\u001b[2K\u001b[57A\u001b[2K\u001b[57A\u001b[2K\u001b[57A\u001b[2K\u001b[57A\u001b[2K\u001b[57A\u001b[2K\u001b[57A\u001b[2K\u001b[57A\u001b[2K\u001b[57A\u001b[2K\u001b[57A\u001b[2K\u001b[57A\u001b[2K\u001b[57A\u001b[2K\u001b[57A\u001b[2K\u001b[57A\u001b[2K\u001b[57A\u001b[2K\u001b[57A\u001b[2K\u001b[57A\u001b[2K\u001b[57A\u001b[2K\u001b[57A\u001b[2K\u001b[57A\u001b[2K\u001b[57A\u001b[2K\u001b[57A\u001b[2K\u001b[57A\u001b[2K\u001b[57A\u001b[2K\u001b[57A\u001b[2K\u001b[57A\u001b[2K\u001b[57A\u001b[2K\u001b[57A\u001b[2K\u001b[57A\u001b[2K\u001b[57A\u001b[2K\u001b[57A\u001b[2K\u001b[57A\u001b[2K\u001b[57A\u001b[2K\u001b[57A\u001b[2K\u001b[57A\u001b[2K\u001b[57A\u001b[2K\u001b[57A\u001b[2K\u001b[57A\u001b[2K\u001b[57A\u001b[2K\u001b[57A\u001b[2K\u001b[57A\u001b[2K\u001b[57A\u001b[2K\u001b[57A\u001b[2K\u001b[57A\u001b[2K\u001b[57A\u001b[2K\u001b[57A\u001b[2K\u001b[57A\u001b[2K\u001b[57A\u001b[2K\u001b[57A\u001b[2K\u001b[57A\u001b[2K\u001b[57A\u001b[2K\u001b[57A\u001b[2K\u001b[57A\u001b[2K\u001b[57A\u001b[2K\u001b[57A\u001b[2K\u001b[57A\u001b[2K\u001b[57A\u001b[2K\u001b[57A\u001b[2K\u001b[57A\u001b[2K\u001b[57A\u001b[2K\u001b[57A\u001b[2K\u001b[57A\u001b[2K\u001b[57A\u001b[2K\u001b[57A\u001b[2K\u001b[57A\u001b[2K\u001b[57A\u001b[2K\u001b[57A\u001b[2K\u001b[56A\u001b[2K\u001b[56A\u001b[2K\u001b[56A\u001b[2K\u001b[56A\u001b[2K\u001b[56A\u001b[2K\u001b[56A\u001b[2K\u001b[55A\u001b[2K\u001b[55A\u001b[2K\u001b[55A\u001b[2K\u001b[55A\u001b[2K\u001b[55A\u001b[2K\u001b[54A\u001b[2K\u001b[54A\u001b[2K\u001b[54A\u001b[2K\u001b[54A\u001b[2K\u001b[54A\u001b[2K\u001b[54A\u001b[2K\u001b[54A\u001b[2K\u001b[54A\u001b[2K\u001b[54A\u001b[2K\u001b[54A\u001b[2K\u001b[54A\u001b[2K\u001b[54A\u001b[2K\u001b[54A\u001b[2K\u001b[54A\u001b[2K\u001b[54A\u001b[2K\u001b[54A\u001b[2K\u001b[54A\u001b[2K\u001b[54A\u001b[2K\u001b[54A\u001b[2K\u001b[54A\u001b[2K\u001b[54A\u001b[2K\u001b[54A\u001b[2K\u001b[54A\u001b[2K\u001b[54A\u001b[2K\u001b[54A\u001b[2K\u001b[54A\u001b[2K\u001b[54A\u001b[2K\u001b[54A\u001b[2K\u001b[54A\u001b[2K\u001b[54A\u001b[2K\u001b[53A\u001b[2K\u001b[53A\u001b[2K\u001b[53A\u001b[2K\u001b[53A\u001b[2K\u001b[53A\u001b[2K\u001b[53A\u001b[2K\u001b[53A\u001b[2K\u001b[53A\u001b[2K\u001b[52A\u001b[2K\u001b[51A\u001b[2K\u001b[51A\u001b[2K\u001b[51A\u001b[2K\u001b[51A\u001b[2K\u001b[51A\u001b[2K\u001b[51A\u001b[2K\u001b[51A\u001b[2K\u001b[51A\u001b[2K\u001b[51A\u001b[2K\u001b[51A\u001b[2K\u001b[51A\u001b[2K\u001b[51A\u001b[2K\u001b[51A\u001b[2K\u001b[51A\u001b[2K\u001b[51A\u001b[2K\u001b[51A\u001b[2K\u001b[51A\u001b[2K\u001b[51A\u001b[2K\u001b[51A\u001b[2K\u001b[51A\u001b[2K\u001b[51A\u001b[2K\u001b[51A\u001b[2K\u001b[51A\u001b[2K\u001b[51A\u001b[2K\u001b[51A\u001b[2K\u001b[51A\u001b[2K\u001b[51A\u001b[2K\u001b[51A\u001b[2K\u001b[51A\u001b[2K\u001b[51A\u001b[2K\u001b[51A\u001b[2K\u001b[51A\u001b[2K\u001b[51A\u001b[2K\u001b[51A\u001b[2K\u001b[50A\u001b[2K\u001b[49A\u001b[2K\u001b[49A\u001b[2K\u001b[49A\u001b[2K\u001b[49A\u001b[2K\u001b[49A\u001b[2K\u001b[49A\u001b[2K\u001b[49A\u001b[2K\u001b[49A\u001b[2K\u001b[49A\u001b[2K\u001b[49A\u001b[2K\u001b[49A\u001b[2K\u001b[49A\u001b[2K\u001b[49A\u001b[2K\u001b[49A\u001b[2K\u001b[49A\u001b[2K\u001b[49A\u001b[2K\u001b[49A\u001b[2K\u001b[49A\u001b[2K\u001b[49A\u001b[2K\u001b[49A\u001b[2K\u001b[49A\u001b[2K\u001b[49A\u001b[2K\u001b[48A\u001b[2K\u001b[48A\u001b[2K\u001b[48A\u001b[2K\u001b[48A\u001b[2K\u001b[48A\u001b[2K\u001b[48A\u001b[2K\u001b[48A\u001b[2K\u001b[48A\u001b[2K\u001b[48A\u001b[2K\u001b[48A\u001b[2K\u001b[47A\u001b[2K\u001b[46A\u001b[2K\u001b[46A\u001b[2K\u001b[46A\u001b[2K\u001b[46A\u001b[2K\u001b[46A\u001b[2K\u001b[46A\u001b[2K\u001b[46A\u001b[2K\u001b[46A\u001b[2K\u001b[46A\u001b[2K\u001b[46A\u001b[2K\u001b[46A\u001b[2K\u001b[46A\u001b[2K\u001b[46A\u001b[2K\u001b[46A\u001b[2K\u001b[46A\u001b[2K\u001b[46A\u001b[2K\u001b[46A\u001b[2K\u001b[46A\u001b[2K\u001b[46A\u001b[2K\u001b[46A\u001b[2K\u001b[46A\u001b[2K\u001b[46A\u001b[2K\u001b[46A\u001b[2K\u001b[46A\u001b[2K\u001b[46A\u001b[2K\u001b[46A\u001b[2K\u001b[46A\u001b[2K\u001b[46A\u001b[2K\u001b[46A\u001b[2K\u001b[46A\u001b[2K\u001b[46A\u001b[2K\u001b[46A\u001b[2K\u001b[46A\u001b[2K\u001b[46A\u001b[2K\u001b[46A\u001b[2K\u001b[46A\u001b[2K\u001b[46A\u001b[2K\u001b[46A\u001b[2K\u001b[46A\u001b[2K\u001b[46A\u001b[2K\u001b[46A\u001b[2K\u001b[46A\u001b[2K\u001b[46A\u001b[2K\u001b[46A\u001b[2K\u001b[46A\u001b[2K\u001b[46A\u001b[2K\u001b[46A\u001b[2K\u001b[46A\u001b[2K\u001b[46A\u001b[2K\u001b[46A\u001b[2K\u001b[46A\u001b[2K\u001b[46A\u001b[2K\u001b[46A\u001b[2K\u001b[46A\u001b[2K\u001b[46A\u001b[2K\u001b[46A\u001b[2K\u001b[46A\u001b[2K\u001b[46A\u001b[2K\u001b[46A\u001b[2K\u001b[46A\u001b[2K\u001b[46A\u001b[2K\u001b[46A\u001b[2K\u001b[46A\u001b[2K\u001b[46A\u001b[2K\u001b[46A\u001b[2K\u001b[46A\u001b[2K\u001b[46A\u001b[2K\u001b[46A\u001b[2K\u001b[46A\u001b[2K\u001b[46A\u001b[2K\u001b[46A\u001b[2K\u001b[46A\u001b[2K\u001b[46A\u001b[2K\u001b[46A\u001b[2K\u001b[46A\u001b[2K\u001b[46A\u001b[2K\u001b[46A\u001b[2K\u001b[46A\u001b[2K\u001b[46A\u001b[2K\u001b[46A\u001b[2K\u001b[46A\u001b[2K\u001b[46A\u001b[2K\u001b[46A\u001b[2K\u001b[46A\u001b[2K\u001b[46A\u001b[2K\u001b[46A\u001b[2K\u001b[46A\u001b[2K\u001b[46A\u001b[2K\u001b[46A\u001b[2K\u001b[46A\u001b[2K\u001b[46A\u001b[2K\u001b[46A\u001b[2K\u001b[46A\u001b[2K\u001b[46A\u001b[2K\u001b[46A\u001b[2K\u001b[46A\u001b[2K\u001b[46A\u001b[2K\u001b[46A\u001b[2K\u001b[46A\u001b[2K\u001b[46A\u001b[2K\u001b[46A\u001b[2K\u001b[46A\u001b[2K\u001b[46A\u001b[2K\u001b[46A\u001b[2K\u001b[46A\u001b[2K\u001b[46A\u001b[2K\u001b[46A\u001b[2K\u001b[46A\u001b[2K\u001b[46A\u001b[2K\u001b[46A\u001b[2K\u001b[46A\u001b[2K\u001b[46A\u001b[2K\u001b[46A\u001b[2K\u001b[46A\u001b[2K\u001b[46A\u001b[2K\u001b[46A\u001b[2K\u001b[46A\u001b[2K\u001b[46A\u001b[2K\u001b[46A\u001b[2K\u001b[46A\u001b[2K\u001b[46A\u001b[2K\u001b[46A\u001b[2K\u001b[46A\u001b[2K\u001b[46A\u001b[2K\u001b[46A\u001b[2K\u001b[46A\u001b[2K\u001b[46A\u001b[2K\u001b[46A\u001b[2K\u001b[46A\u001b[2K\u001b[46A\u001b[2K\u001b[46A\u001b[2K\u001b[46A\u001b[2K\u001b[46A\u001b[2K\u001b[46A\u001b[2K\u001b[46A\u001b[2K\u001b[46A\u001b[2K\u001b[46A\u001b[2K\u001b[46A\u001b[2K\u001b[46A\u001b[2K\u001b[46A\u001b[2K\u001b[46A\u001b[2K\u001b[46A\u001b[2K\u001b[46A\u001b[2K\u001b[46A\u001b[2K\u001b[46A\u001b[2K\u001b[46A\u001b[2K\u001b[46A\u001b[2K\u001b[46A\u001b[2K\u001b[46A\u001b[2K\u001b[46A\u001b[2K\u001b[46A\u001b[2K\u001b[46A\u001b[2K\u001b[46A\u001b[2K\u001b[46A\u001b[2K\u001b[46A\u001b[2K\u001b[46A\u001b[2K\u001b[46A\u001b[2K\u001b[46A\u001b[2K\u001b[46A\u001b[2K\u001b[46A\u001b[2K\u001b[45A\u001b[2K\u001b[45A\u001b[2K\u001b[45A\u001b[2K\u001b[45A\u001b[2K\u001b[45A\u001b[2K\u001b[45A\u001b[2K\u001b[45A\u001b[2K\u001b[45A\u001b[2K\u001b[45A\u001b[2K\u001b[45A\u001b[2K\u001b[45A\u001b[2K\u001b[45A\u001b[2K\u001b[45A\u001b[2K\u001b[45A\u001b[2K\u001b[45A\u001b[2K\u001b[45A\u001b[2K\u001b[45A\u001b[2K\u001b[45A\u001b[2K\u001b[45A\u001b[2K\u001b[45A\u001b[2K\u001b[45A\u001b[2K\u001b[45A\u001b[2K\u001b[45A\u001b[2K\u001b[45A\u001b[2K\u001b[45A\u001b[2K\u001b[45A\u001b[2K\u001b[45A\u001b[2K\u001b[45A\u001b[2K\u001b[45A\u001b[2K\u001b[45A\u001b[2K\u001b[45A\u001b[2K\u001b[45A\u001b[2K\u001b[45A\u001b[2K\u001b[45A\u001b[2K\u001b[45A\u001b[2K\u001b[45A\u001b[2K\u001b[45A\u001b[2K\u001b[45A\u001b[2K\u001b[45A\u001b[2K\u001b[45A\u001b[2K\u001b[45A\u001b[2K\u001b[45A\u001b[2K\u001b[45A\u001b[2K\u001b[45A\u001b[2K\u001b[45A\u001b[2K\u001b[45A\u001b[2K\u001b[45A\u001b[2K\u001b[45A\u001b[2K\u001b[45A\u001b[2K\u001b[45A\u001b[2K\u001b[45A\u001b[2K\u001b[45A\u001b[2K\u001b[45A\u001b[2K\u001b[45A\u001b[2K\u001b[45A\u001b[2K\u001b[45A\u001b[2K\u001b[45A\u001b[2K\u001b[45A\u001b[2K\u001b[45A\u001b[2K\u001b[45A\u001b[2K\u001b[45A\u001b[2K\u001b[45A\u001b[2K\u001b[45A\u001b[2K\u001b[45A\u001b[2K\u001b[45A\u001b[2K\u001b[45A\u001b[2K\u001b[45A\u001b[2K\u001b[45A\u001b[2K\u001b[45A\u001b[2K\u001b[45A\u001b[2K\u001b[45A\u001b[2K\u001b[45A\u001b[2K\u001b[45A\u001b[2K\u001b[45A\u001b[2K\u001b[45A\u001b[2K\u001b[45A\u001b[2K\u001b[45A\u001b[2K\u001b[45A\u001b[2K\u001b[45A\u001b[2K\u001b[45A\u001b[2K\u001b[45A\u001b[2K\u001b[45A\u001b[2K\u001b[45A\u001b[2K\u001b[45A\u001b[2K\u001b[45A\u001b[2K\u001b[45A\u001b[2K\u001b[45A\u001b[2K\u001b[45A\u001b[2K\u001b[45A\u001b[2K\u001b[45A\u001b[2K\u001b[45A\u001b[2K\u001b[45A\u001b[2K\u001b[45A\u001b[2K\u001b[44A\u001b[2K\u001b[44A\u001b[2K\u001b[44A\u001b[2K\u001b[43A\u001b[2K\u001b[42A\u001b[2K\u001b[41A\u001b[2K\u001b[41A\u001b[2K\u001b[41A\u001b[2K\u001b[41A\u001b[2K\u001b[41A\u001b[2K\u001b[41A\u001b[2K\u001b[41A\u001b[2K\u001b[41A\u001b[2K\u001b[41A\u001b[2K\u001b[41A\u001b[2K\u001b[41A\u001b[2K\u001b[41A\u001b[2K\u001b[41A\u001b[2K\u001b[41A\u001b[2K\u001b[41A\u001b[2K\u001b[41A\u001b[2K\u001b[41A\u001b[2K\u001b[41A\u001b[2K\u001b[41A\u001b[2K\u001b[41A\u001b[2K\u001b[41A\u001b[2K\u001b[41A\u001b[2K\u001b[41A\u001b[2K\u001b[41A\u001b[2K\u001b[41A\u001b[2K\u001b[41A\u001b[2K\u001b[41A\u001b[2K\u001b[41A\u001b[2K\u001b[41A\u001b[2K\u001b[41A\u001b[2K\u001b[41A\u001b[2K\u001b[41A\u001b[2K\u001b[41A\u001b[2K\u001b[41A\u001b[2K\u001b[41A\u001b[2K\u001b[41A\u001b[2K\u001b[41A\u001b[2K\u001b[41A\u001b[2K\u001b[41A\u001b[2K\u001b[40A\u001b[2K\u001b[39A\u001b[2K\u001b[39A\u001b[2K\u001b[38A\u001b[2K\u001b[37A\u001b[2K\u001b[37A\u001b[2K\u001b[36A\u001b[2K\u001b[36A\u001b[2K\u001b[36A\u001b[2K\u001b[36A\u001b[2K\u001b[35A\u001b[2K\u001b[35A\u001b[2K\u001b[35A\u001b[2K\u001b[35A\u001b[2K\u001b[35A\u001b[2K\u001b[35A\u001b[2K\u001b[34A\u001b[2K\u001b[33A\u001b[2K\u001b[33A\u001b[2K\u001b[32A\u001b[2K\u001b[32A\u001b[2K\u001b[31A\u001b[2K\u001b[31A\u001b[2K\u001b[31A\u001b[2K\u001b[30A\u001b[2K\u001b[30A\u001b[2K\u001b[30A\u001b[2K\u001b[30A\u001b[2K\u001b[29A\u001b[2K\u001b[29A\u001b[2K\u001b[29A\u001b[2KExtracting  2.753MB/16.62MB\u001b[29A\u001b[2K\u001b[29A\u001b[2K\u001b[29A\u001b[2K\u001b[29A\u001b[2K\u001b[29A\u001b[2K\u001b[29A\u001b[2K\u001b[29A\u001b[2K\u001b[29A\u001b[2K\u001b[29A\u001b[2K\u001b[28A\u001b[2K\u001b[28A\u001b[2K\u001b[28A\u001b[2K\u001b[28A\u001b[2K\u001b[28A\u001b[2K\u001b[28A\u001b[2K\u001b[28A\u001b[2K\u001b[28A\u001b[2K\u001b[27A\u001b[2K\u001b[27A\u001b[2K\u001b[27A\u001b[2K\u001b[27A\u001b[2K\u001b[27A\u001b[2K\u001b[27A\u001b[2K\u001b[27A\u001b[2K\u001b[27A\u001b[2K\u001b[27A\u001b[2K\u001b[27A\u001b[2K\u001b[26A\u001b[2K\u001b[26A\u001b[2K\u001b[26A\u001b[2K\u001b[26A\u001b[2K\u001b[26A\u001b[2K\u001b[26A\u001b[2K\u001b[26A\u001b[2K\u001b[25A\u001b[2K\u001b[25A\u001b[2K\u001b[25A\u001b[2K\u001b[25A\u001b[2K\u001b[25A\u001b[2K\u001b[25A\u001b[2K\u001b[25A\u001b[2K\u001b[25A\u001b[2K\u001b[25A\u001b[2K\u001b[25A\u001b[2K\u001b[25A\u001b[2K\u001b[25A\u001b[2K\u001b[24A\u001b[2K\u001b[23A\u001b[2K\u001b[23A\u001b[2K\u001b[23A\u001b[2K\u001b[23A\u001b[2K\u001b[22A\u001b[2K\u001b[22A\u001b[2K\u001b[21A\u001b[2K\u001b[21A\u001b[2K\u001b[21A\u001b[2K\u001b[21A\u001b[2K\u001b[21A\u001b[2K\u001b[21A\u001b[2K\u001b[21A\u001b[2K\u001b[21A\u001b[2K\u001b[21A\u001b[2K\u001b[21A\u001b[2K\u001b[21A\u001b[2K\u001b[21A\u001b[2K\u001b[21A\u001b[2K\u001b[21A\u001b[2K\u001b[21A\u001b[2K\u001b[21A\u001b[2K\u001b[21A\u001b[2K\u001b[21A\u001b[2K\u001b[21A\u001b[2K\u001b[21A\u001b[2K\u001b[21A\u001b[2K\u001b[21A\u001b[2K\u001b[21A\u001b[2K\u001b[21A\u001b[2K\u001b[21A\u001b[2K\u001b[21A\u001b[2K\u001b[21A\u001b[2K\u001b[21A\u001b[2K\u001b[21A\u001b[2K\u001b[21A\u001b[2K\u001b[21A\u001b[2K\u001b[21A\u001b[2K\u001b[21A\u001b[2K\u001b[21A\u001b[2K\u001b[21A\u001b[2K\u001b[21A\u001b[2K\u001b[21A\u001b[2K\u001b[21A\u001b[2K\u001b[21A\u001b[2K\u001b[21A\u001b[2K\u001b[21A\u001b[2K\u001b[21A\u001b[2K\u001b[21A\u001b[2K\u001b[21A\u001b[2K\u001b[21A\u001b[2K\u001b[21A\u001b[2K\u001b[21A\u001b[2K\u001b[21A\u001b[2K\u001b[21A\u001b[2K\u001b[21A\u001b[2K\u001b[21A\u001b[2K\u001b[21A\u001b[2K\u001b[20A\u001b[2K\u001b[20A\u001b[2K\u001b[20A\u001b[2K\u001b[20A\u001b[2K\u001b[20A\u001b[2K\u001b[20A\u001b[2K\u001b[20A\u001b[2K\u001b[20A\u001b[2K\u001b[20A\u001b[2K\u001b[20A\u001b[2K\u001b[20A\u001b[2K\u001b[20A\u001b[2K\u001b[20A\u001b[2K\u001b[20A\u001b[2K\u001b[20A\u001b[2K\u001b[20A\u001b[2K\u001b[20A\u001b[2K\u001b[20A\u001b[2K\u001b[20A\u001b[2K\u001b[20A\u001b[2K\u001b[20A\u001b[2K\u001b[20A\u001b[2K\u001b[20A\u001b[2K\u001b[20A\u001b[2K\u001b[20A\u001b[2K\u001b[20A\u001b[2K\u001b[20A\u001b[2K\u001b[20A\u001b[2K\u001b[20A\u001b[2K\u001b[20A\u001b[2K\u001b[20A\u001b[2K\u001b[20A\u001b[2K\u001b[20A\u001b[2K\u001b[20A\u001b[2K\u001b[20A\u001b[2K\u001b[20A\u001b[2K\u001b[20A\u001b[2K\u001b[20A\u001b[2K\u001b[20A\u001b[2K\u001b[20A\u001b[2K\u001b[20A\u001b[2K\u001b[20A\u001b[2K\u001b[20A\u001b[2K\u001b[20A\u001b[2K\u001b[20A\u001b[2K\u001b[20A\u001b[2K\u001b[20A\u001b[2K\u001b[20A\u001b[2K\u001b[20A\u001b[2K\u001b[20A\u001b[2K\u001b[20A\u001b[2K\u001b[20A\u001b[2K\u001b[20A\u001b[2K\u001b[20A\u001b[2K\u001b[20A\u001b[2K\u001b[20A\u001b[2K\u001b[20A\u001b[2K\u001b[20A\u001b[2K\u001b[20A\u001b[2K\u001b[20A\u001b[2K\u001b[20A\u001b[2K\u001b[20A\u001b[2K\u001b[20A\u001b[2K\u001b[20A\u001b[2K\u001b[20A\u001b[2K\u001b[20A\u001b[2K\u001b[20A\u001b[2K\u001b[20A\u001b[2K\u001b[20A\u001b[2K\u001b[20A\u001b[2K\u001b[20A\u001b[2K\u001b[20A\u001b[2K\u001b[20A\u001b[2K\u001b[20A\u001b[2K\u001b[20A\u001b[2K\u001b[19A\u001b[2K\u001b[19A\u001b[2K\u001b[19A\u001b[2K\u001b[19A\u001b[2K\u001b[19A\u001b[2K\u001b[19A\u001b[2K\u001b[19A\u001b[2K\u001b[19A\u001b[2K\u001b[19A\u001b[2K\u001b[18A\u001b[2K\u001b[17A\u001b[2K\u001b[17A\u001b[2K\u001b[16A\u001b[2K\u001b[15A\u001b[2K\u001b[15A\u001b[2K\u001b[15A\u001b[2K\u001b[15A\u001b[2K\u001b[15A\u001b[2K\u001b[14A\u001b[2K\u001b[14A\u001b[2K\u001b[13A\u001b[2K\u001b[12A\u001b[2K\u001b[12A\u001b[2K\u001b[11A\u001b[2K\u001b[11A\u001b[2K\u001b[10A\u001b[2K\u001b[9A\u001b[2K\u001b[9A\u001b[2K\u001b[9A\u001b[2K\u001b[9A\u001b[2K\u001b[9A\u001b[2K\u001b[8A\u001b[2K\u001b[7A\u001b[2K\u001b[7A\u001b[2K\u001b[6A\u001b[2K\u001b[6A\u001b[2K\u001b[6A\u001b[2K\u001b[6A\u001b[2K\u001b[6A\u001b[2K\u001b[5A\u001b[2K\u001b[4A\u001b[2K\u001b[3A\u001b[2K\u001b[2A\u001b[2K\u001b[1A\u001b[2K\n",
      "Status: Downloaded newer image for nvcr.io/nvidia/riva/riva-speech:1.7.0-beta-servicemaker\n",
      "nvcr.io/nvidia/riva/riva-speech:1.7.0-beta-servicemaker\n"
     ]
    }
   ],
   "source": [
    "# Get the ServiceMaker docker\n",
    "! docker pull $RIVA_SM_CONTAINER"
   ]
  },
  {
   "cell_type": "code",
   "execution_count": 3,
   "metadata": {},
   "outputs": [
    {
     "name": "stdout",
     "output_type": "stream",
     "text": [
      "\n",
      "==========================\n",
      "=== Riva Speech Skills ===\n",
      "==========================\n",
      "\n",
      "NVIDIA Release 21.10 (build 29079244)\n",
      "\n",
      "Copyright (c) 2018-2021, NVIDIA CORPORATION.  All rights reserved.\n",
      "\n",
      "Various files include modifications (c) NVIDIA CORPORATION.  All rights reserved.\n",
      "NVIDIA modifications are covered by the license terms that apply to the underlying\n",
      "project or file.\n",
      "\n",
      "NOTE: Legacy NVIDIA Driver detected.  Compatibility mode ENABLED.\n",
      "\n",
      "NOTE: The SHMEM allocation limit is set to the default of 64MB.  This may be\n",
      "   insufficient for the inference server.  NVIDIA recommends the use of the following flags:\n",
      "   nvidia-docker run --shm-size=1g --ulimit memlock=-1 --ulimit stack=67108864 ...\n",
      "\n",
      "2023-03-31 14:28:56,282 [WARNING] Property 'encrypted' is deprecated. Please use 'encryption' instead.\n",
      "2023-03-31 14:28:57,588 [WARNING] ['class_labels'] field was not found in nemo config. Using default (intent_labels.csv) instead\n",
      "2023-03-31 14:28:57,592 [INFO] Packing binaries for self/PyTorch : {'class_labels_file': ('nemo.collections.nlp.models.text_classification.text_classification_model.TextClassificationModel', 'intent_labels.csv')}\n",
      "2023-03-31 14:28:57,592 [INFO] Copying class_labels_file:intent_labels.csv -> self:self-intent_labels.csv\n",
      "2023-03-31 14:28:57,592 [INFO] Packing binaries for language_model/PyTorch : {'ckpt': ('nemo.collections.nlp.models.text_classification.text_classification_model.TextClassificationModel', 'model_weights.ckpt'), 'bert_config_file': ('nemo.collections.nlp.models.text_classification.text_classification_model.TextClassificationModel', 'bert-base-uncased_encoder_config.json')}\n",
      "2023-03-31 14:28:57,592 [INFO] Copying ckpt:model_weights.ckpt -> language_model:language_model-model_weights.ckpt\n",
      "2023-03-31 14:29:02,450 [INFO] Copying bert_config_file:bert-base-uncased_encoder_config.json -> language_model:language_model-bert-base-uncased_encoder_config.json\n",
      "2023-03-31 14:29:02,451 [INFO] Packing binaries for tokenizer/PyTorch : {'vocab': ('nemo.collections.nlp.models.text_classification.text_classification_model.TextClassificationModel', 'tokenizer.vocab_file')}\n",
      "2023-03-31 14:29:02,451 [INFO] Copying vocab:tokenizer.vocab_file -> tokenizer:tokenizer-tokenizer.vocab_file\n",
      "2023-03-31 14:29:02,451 [INFO] Saving to /data/tc-model.rmir\n"
     ]
    }
   ],
   "source": [
    "# Syntax: riva-build <task-name> output-dir-for-rmir/model.rmir:key dir-for-riva/model.riva:key\n",
    "# riva-build text_classification \\\n",
    "#            --domain_name=\"<your custom domain name>\" \\\n",
    "#            /servicemaker-dev/<rmir_filename>:<encryption_key> \\\n",
    "#            /servicemaker-dev/<riva_filename>:<encryption_key>\n",
    "\n",
    "! docker run --rm --gpus 1 -v $MODEL_LOC:/data $RIVA_SM_CONTAINER -- \\\n",
    "            riva-build text_classification -f /data/tc-model.rmir:$KEY /data/$MODEL_NAME:$KEY"
   ]
  },
  {
   "cell_type": "markdown",
   "metadata": {},
   "source": [
    "### 2. Riva-deploy\n",
    "\n",
    "The deployment tool takes as input one or more Riva Model Intermediate Representation (RMIR) files and a target model repository directory. It creates an ensemble configuration specifying the pipeline for the execution and finally writes all those assets to the output model repository directory."
   ]
  },
  {
   "cell_type": "code",
   "execution_count": 4,
   "metadata": {},
   "outputs": [
    {
     "name": "stdout",
     "output_type": "stream",
     "text": [
      "\n",
      "==========================\n",
      "=== Riva Speech Skills ===\n",
      "==========================\n",
      "\n",
      "NVIDIA Release 21.10 (build 29079244)\n",
      "\n",
      "Copyright (c) 2018-2021, NVIDIA CORPORATION.  All rights reserved.\n",
      "\n",
      "Various files include modifications (c) NVIDIA CORPORATION.  All rights reserved.\n",
      "NVIDIA modifications are covered by the license terms that apply to the underlying\n",
      "project or file.\n",
      "\n",
      "NOTE: Legacy NVIDIA Driver detected.  Compatibility mode ENABLED.\n",
      "\n",
      "NOTE: The SHMEM allocation limit is set to the default of 64MB.  This may be\n",
      "   insufficient for the inference server.  NVIDIA recommends the use of the following flags:\n",
      "   nvidia-docker run --shm-size=1g --ulimit memlock=-1 --ulimit stack=67108864 ...\n",
      "\n",
      "2023-03-31 14:29:28,170 [INFO] Writing Riva model repository to '/data/models'...\n",
      "2023-03-31 14:29:28,170 [INFO] The riva model repo target directory is /data/models\n",
      "2023-03-31 14:29:32,062 [INFO] Extract_binaries for language_model -> /data/models/riva-trt-riva_text_classification_default-nn-bert-base-uncased/1\n",
      "2023-03-31 14:29:32,062 [INFO] extracting {'ckpt': ('nemo.collections.nlp.models.text_classification.text_classification_model.TextClassificationModel', 'model_weights.ckpt'), 'bert_config_file': ('nemo.collections.nlp.models.text_classification.text_classification_model.TextClassificationModel', 'bert-base-uncased_encoder_config.json')} -> /data/models/riva-trt-riva_text_classification_default-nn-bert-base-uncased/1\n",
      "2023-03-31 14:29:37,631 [INFO] Printing copied artifacts:\n",
      "2023-03-31 14:29:37,631 [INFO] {'ckpt': '/data/models/riva-trt-riva_text_classification_default-nn-bert-base-uncased/1/model_weights.ckpt', 'bert_config_file': '/data/models/riva-trt-riva_text_classification_default-nn-bert-base-uncased/1/bert-base-uncased_encoder_config.json'}\n",
      "2023-03-31 14:29:37,631 [INFO] Building TRT engine from PyTorch Checkpoint\n",
      "[NeMo W 2023-03-31 14:29:45 nemo_logging:349] /opt/conda/lib/python3.8/site-packages/servicemaker/triton/export_bert_pytorch_to_trt.py:785: DeprecationWarning: Use build_serialized_network instead.\n",
      "      engine = builder.build_engine(network, builder_config)\n",
      "    \n",
      "2023-03-31 14:30:24,351 [INFO] Text Classification classes:4\n",
      "2023-03-31 14:30:24,352 [INFO] Extract_binaries for tokenizer -> /data/models/text_classification_tokenizer/1\n",
      "2023-03-31 14:30:24,352 [INFO] extracting {'vocab': ('nemo.collections.nlp.models.text_classification.text_classification_model.TextClassificationModel', 'tokenizer.vocab_file')} -> /data/models/text_classification_tokenizer/1\n",
      "2023-03-31 14:30:24,356 [INFO] Extract_binaries for self -> /data/models/riva_text_classification_default/1\n",
      "2023-03-31 14:30:24,356 [INFO] extracting {'class_labels_file': ('nemo.collections.nlp.models.text_classification.text_classification_model.TextClassificationModel', 'intent_labels.csv')} -> /data/models/riva_text_classification_default/1\n"
     ]
    }
   ],
   "source": [
    "# Syntax: riva-deploy -f dir-for-rmir/model.rmir:key output-dir-for-repository\n",
    "! docker run --rm --gpus 1 -v $MODEL_LOC:/data $RIVA_SM_CONTAINER -- \\\n",
    "            riva-deploy -f /data/tc-model.rmir:$KEY /data/models"
   ]
  },
  {
   "cell_type": "markdown",
   "metadata": {},
   "source": [
    "## Start Riva Server\n",
    "Once the model repository is generated, we are ready to start the Riva server. From this step onwards you need to download the Riva QuickStart Resource from NGC. \n",
    "Set the path to the directory here:"
   ]
  },
  {
   "cell_type": "code",
   "execution_count": 5,
   "metadata": {},
   "outputs": [],
   "source": [
    "# Set the Riva QuickStart directory\n",
    "RIVA_DIR = \"/dli/task/riva_quickstart_v1.7.0-beta\""
   ]
  },
  {
   "cell_type": "markdown",
   "metadata": {},
   "source": [
    "Next, we modify config.sh to enable relevant Riva services (asr for QuartzNet Model), provide the encryption key, and path to the model repository (`riva_model_loc`) generated in the previous step among other configurations. \n",
    "\n",
    "For instance, if above the model repository is generated at `$MODEL_LOC/models`, then you can specify `riva_model_loc` as the same directory as `MODEL_LOC` <br>\n",
    "\n",
    "Pretrained versions of models specified in models_asr/nlp/tts are fetched from NGC. Since we are using our custom model, we can comment it in models_asr (and any others that are not relevant to your use case). <br>"
   ]
  },
  {
   "cell_type": "markdown",
   "metadata": {},
   "source": [
    "#### config.sh snipet\n",
    "```\n",
    "# Enable or Disable Riva Services \n",
    "service_enabled_asr=false                                 ## MAKE CHANGES HERE\n",
    "service_enabled_nlp=true                                  ## MAKE CHANGES HERE\n",
    "service_enabled_tts=false                                 ## MAKE CHANGES HERE\n",
    "\n",
    "# Specify one or more GPUs to use\n",
    "# specifying more than one GPU is currently an experimental feature, and may result in undefined behaviours.\n",
    "gpus_to_use=\"device=0\"\n",
    "\n",
    "# Specify the encryption key to use to deploy models\n",
    "MODEL_DEPLOY_KEY=\"tlt_encode\"                             ## Set the model encryption key\n",
    "\n",
    "# Locations to use for storing models artifacts\n",
    "...\n",
    "riva_model_loc=\"<add path>\"                              ## Replace with MODEL_LOC\n",
    "\n",
    "# The default RMIRs are downloaded from NGC by default in the above $riva_rmir_loc directory\n",
    "# If you'd like to skip the download from NGC and use the existing RMIRs in the $riva_rmir_loc\n",
    "# then set the below $use_existing_rmirs flag to true.\n",
    "...\n",
    "use_existing_rmirs=true                                  ## Set to True\n",
    "```"
   ]
  },
  {
   "cell_type": "code",
   "execution_count": 6,
   "metadata": {},
   "outputs": [],
   "source": [
    "# Execute this cell to copy the solution config.sh into the quickstart directory\n",
    "! cp solutions/config.sh $RIVA_DIR"
   ]
  },
  {
   "cell_type": "code",
   "execution_count": 7,
   "metadata": {},
   "outputs": [],
   "source": [
    "# Ensure you have permission to execute these scripts.\n",
    "! cd $RIVA_DIR && chmod +x ./riva_init.sh && chmod +x ./riva_start.sh"
   ]
  },
  {
   "cell_type": "code",
   "execution_count": 8,
   "metadata": {},
   "outputs": [
    {
     "name": "stdout",
     "output_type": "stream",
     "text": [
      "Logging into NGC docker registry if necessary...\n",
      "Pulling required docker images if necessary...\n",
      "Note: This may take some time, depending on the speed of your Internet connection.\n",
      "> Pulling Riva Speech Server images.\n",
      "  > Pulling nvcr.io/nvidia/riva/riva-speech:1.7.0-beta-server. This may take some time...\n",
      "  > Pulling nvcr.io/nvidia/riva/riva-speech-client:1.7.0-beta. This may take some time...\n",
      "  > Image nvcr.io/nvidia/riva/riva-speech:1.7.0-beta-servicemaker exists. Skipping.\n",
      "\n",
      "Converting RMIRs at /dli/task/domainclassification_english_bert_vdeployable_v1.0/rmir to Riva Model repository.\n",
      "+ docker run --init -it --rm --gpus '\"device=0\"' -v /dli/task/domainclassification_english_bert_vdeployable_v1.0:/data -e MODEL_DEPLOY_KEY=tlt_encode --name riva-service-maker nvcr.io/nvidia/riva/riva-speech:1.7.0-beta-servicemaker deploy_all_models /data/rmir /data/models\n",
      "\n",
      "==========================\n",
      "=== Riva Speech Skills ===\n",
      "==========================\n",
      "\n",
      "NVIDIA Release 21.10 (build 29079244)\n",
      "\n",
      "Copyright (c) 2018-2021, NVIDIA CORPORATION.  All rights reserved.\n",
      "\n",
      "Various files include modifications (c) NVIDIA CORPORATION.  All rights reserved.\n",
      "NVIDIA modifications are covered by the license terms that apply to the underlying\n",
      "project or file.\n",
      "\n",
      "NOTE: Legacy NVIDIA Driver detected.  Compatibility mode ENABLED.\n",
      "\n",
      "NOTE: The SHMEM allocation limit is set to the default of 64MB.  This may be\n",
      "   insufficient for the inference server.  NVIDIA recommends the use of the following flags:\n",
      "   nvidia-docker run --shm-size=1g --ulimit memlock=-1 --ulimit stack=67108864 ...\n",
      "\n",
      "find: ‘/data/rmir’: No such file or directory\n",
      "+ echo\n",
      "\n",
      "+ echo 'Riva initialization complete. Run ./riva_start.sh to launch services.'\n",
      "Riva initialization complete. Run ./riva_start.sh to launch services.\n"
     ]
    }
   ],
   "source": [
    "# Run Riva Init. This will fetch the containers/models\n",
    "# YOU CAN SKIP THIS STEP IF YOU DID RIVA DEPLOY\n",
    "! cd $RIVA_DIR && ./riva_init.sh config.sh"
   ]
  },
  {
   "cell_type": "code",
   "execution_count": 9,
   "metadata": {},
   "outputs": [
    {
     "name": "stdout",
     "output_type": "stream",
     "text": [
      "Starting Riva Speech Services. This may take several minutes depending on the number of models deployed.\n",
      "Waiting for Riva server to load all models...retrying in 10 seconds\n",
      "Riva server is ready...\n"
     ]
    }
   ],
   "source": [
    "# Run Riva Start. This will deploy the model(s).\n",
    "! cd $RIVA_DIR && bash riva_start.sh config.sh"
   ]
  },
  {
   "cell_type": "markdown",
   "metadata": {},
   "source": [
    "## Run Inference\n",
    "Once the Riva server is up and running with your models, you can send inference requests querying the server. \n",
    "\n",
    "To send GRPC requests, you can install Riva Python API bindings for client. This is available as a pip .whl with the QuickStart."
   ]
  },
  {
   "cell_type": "markdown",
   "metadata": {},
   "source": [
    "The following code sample shows how you can perform inference using Riva Python API gRPC bindings:"
   ]
  },
  {
   "cell_type": "code",
   "execution_count": 10,
   "metadata": {},
   "outputs": [],
   "source": [
    "import grpc\n",
    "import argparse\n",
    "import os\n",
    "import riva_api.riva_nlp_pb2 as rnlp\n",
    "import riva_api.riva_nlp_pb2_grpc as rnlp_srv\n",
    "\n",
    "\n",
    "class BertTextClassifyClient(object):\n",
    "    def __init__(self, grpc_server, model_name):\n",
    "        # generate the correct model based on precision and whether or not ensemble is used\n",
    "        print(\"Using model: {}\".format(model_name))\n",
    "\n",
    "        self.model_name = model_name\n",
    "        self.channel = grpc.insecure_channel(grpc_server)\n",
    "        self.riva_nlp = rnlp_srv.RivaLanguageUnderstandingStub(self.channel)\n",
    "\n",
    "        self.has_bos_eos = False\n",
    "\n",
    "    # use the text_classification network to return top-1 classes for intents/sequences\n",
    "    def postprocess_labels_server(self, ct_response):\n",
    "        results = []\n",
    "\n",
    "        for i in range(0, len(ct_response.results)):\n",
    "            intent_str = ct_response.results[i].labels[0].class_name\n",
    "            intent_conf = ct_response.results[i].labels[0].score\n",
    "\n",
    "            results.append((intent_str, intent_conf))\n",
    "\n",
    "        return results\n",
    "\n",
    "    # accept a list of strings, return a list of tuples ('intent', scores)\n",
    "    def run(self, input_strings):\n",
    "        if isinstance(input_strings, str):\n",
    "            # user probably passed a single string instead of a list/iterable\n",
    "            input_strings = [input_strings]\n",
    "\n",
    "        # get intent of the query\n",
    "        request = rnlp.TextClassRequest()\n",
    "        request.model.model_name = self.model_name\n",
    "        for q in input_strings:\n",
    "            request.text.append(q)\n",
    "        ct_response = self.riva_nlp.ClassifyText(request)\n",
    "\n",
    "        return self.postprocess_labels_server(ct_response)\n",
    "\n",
    "\n",
    "def run_text_classify(server, model, query):\n",
    "    print(\"Client app to test text classification on Riva\")\n",
    "    client = BertTextClassifyClient(server, model_name=model)\n",
    "    result = client.run(query)\n",
    "    print(result)"
   ]
  },
  {
   "cell_type": "code",
   "execution_count": 11,
   "metadata": {},
   "outputs": [
    {
     "name": "stdout",
     "output_type": "stream",
     "text": [
      "Client app to test text classification on Riva\n",
      "Using model: riva_text_classification_default\n",
      "[('misty.weather', 0.9970700144767761)]\n"
     ]
    }
   ],
   "source": [
    "# Model Name will depend on the dataset and the domain on which the model was trained. \n",
    "# Please check `docker logs <container name>` and replace it accordingly (There will \n",
    "# be a table of models with their status displayed next to them) Check the documentation\n",
    "# for more information.\n",
    "\n",
    "run_text_classify(server=\"localhost:50051\",\n",
    "                model=\"riva_text_classification_default\",\n",
    "                query=\"How is the weather tomorrow?\")"
   ]
  },
  {
   "cell_type": "markdown",
   "metadata": {},
   "source": [
    "`NOTE`: You could also run the above inference code from inside the Riva Client container. The QuickStart provides a script `riva_start_client.sh` to run the container. It has more examples for different services."
   ]
  },
  {
   "cell_type": "markdown",
   "metadata": {},
   "source": [
    "You can stop all docker container before shutting down the jupyter kernel. Caution: The following command will stop all running containers"
   ]
  },
  {
   "cell_type": "code",
   "execution_count": 12,
   "metadata": {},
   "outputs": [
    {
     "name": "stdout",
     "output_type": "stream",
     "text": [
      "d13cfb4d6ccd\n"
     ]
    }
   ],
   "source": [
    "! docker stop $(docker ps -a -q)"
   ]
  },
  {
   "cell_type": "markdown",
   "metadata": {},
   "source": [
    "## What's next?\n",
    "You could train your own custom models in TAO and deploy them in Riva! You could scale up your deployment using Kubernetes with the Riva AI Services Helm Chart, which will pull the relevant Images and download model artifacts from NGC, generate the model repository, start and expose the Riva speech services."
   ]
  },
  {
   "cell_type": "markdown",
   "metadata": {},
   "source": [
    "<a href=\"https://www.nvidia.com/dli\"> <img src=\"images/DLI_Header.png\" alt=\"Header\" style=\"width: 400px;\"/> </a>"
   ]
  },
  {
   "cell_type": "code",
   "execution_count": null,
   "metadata": {},
   "outputs": [],
   "source": []
  },
  {
   "cell_type": "code",
   "execution_count": null,
   "metadata": {},
   "outputs": [],
   "source": []
  },
  {
   "cell_type": "code",
   "execution_count": null,
   "metadata": {},
   "outputs": [],
   "source": []
  },
  {
   "cell_type": "code",
   "execution_count": null,
   "metadata": {},
   "outputs": [],
   "source": []
  },
  {
   "cell_type": "code",
   "execution_count": null,
   "metadata": {},
   "outputs": [],
   "source": []
  },
  {
   "cell_type": "code",
   "execution_count": null,
   "metadata": {},
   "outputs": [],
   "source": []
  },
  {
   "cell_type": "code",
   "execution_count": null,
   "metadata": {},
   "outputs": [],
   "source": []
  },
  {
   "cell_type": "code",
   "execution_count": null,
   "metadata": {},
   "outputs": [],
   "source": []
  },
  {
   "cell_type": "code",
   "execution_count": null,
   "metadata": {},
   "outputs": [],
   "source": []
  },
  {
   "cell_type": "code",
   "execution_count": null,
   "metadata": {},
   "outputs": [],
   "source": []
  },
  {
   "cell_type": "code",
   "execution_count": null,
   "metadata": {},
   "outputs": [],
   "source": []
  },
  {
   "cell_type": "code",
   "execution_count": null,
   "metadata": {},
   "outputs": [],
   "source": []
  },
  {
   "cell_type": "code",
   "execution_count": null,
   "metadata": {},
   "outputs": [],
   "source": []
  },
  {
   "cell_type": "code",
   "execution_count": null,
   "metadata": {},
   "outputs": [],
   "source": []
  },
  {
   "cell_type": "code",
   "execution_count": null,
   "metadata": {},
   "outputs": [],
   "source": []
  },
  {
   "cell_type": "code",
   "execution_count": null,
   "metadata": {},
   "outputs": [],
   "source": []
  },
  {
   "cell_type": "code",
   "execution_count": null,
   "metadata": {},
   "outputs": [],
   "source": []
  },
  {
   "cell_type": "code",
   "execution_count": null,
   "metadata": {},
   "outputs": [],
   "source": []
  },
  {
   "cell_type": "code",
   "execution_count": null,
   "metadata": {},
   "outputs": [],
   "source": []
  }
 ],
 "metadata": {
  "kernelspec": {
   "display_name": "Python 3 (ipykernel)",
   "language": "python",
   "name": "python3"
  },
  "language_info": {
   "codemirror_mode": {
    "name": "ipython",
    "version": 3
   },
   "file_extension": ".py",
   "mimetype": "text/x-python",
   "name": "python",
   "nbconvert_exporter": "python",
   "pygments_lexer": "ipython3",
   "version": "3.8.10"
  }
 },
 "nbformat": 4,
 "nbformat_minor": 4
}
